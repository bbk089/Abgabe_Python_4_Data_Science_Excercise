{
 "cells": [
  {
   "cell_type": "code",
   "execution_count": 1,
   "id": "b124fa30",
   "metadata": {},
   "outputs": [
    {
     "data": {
      "text/plain": [
       "2"
      ]
     },
     "execution_count": 1,
     "metadata": {},
     "output_type": "execute_result"
    }
   ],
   "source": [
    "1+1"
   ]
  },
  {
   "cell_type": "code",
   "execution_count": 2,
   "id": "c6f6d605",
   "metadata": {
    "scrolled": true
   },
   "outputs": [
    {
     "data": {
      "text/plain": [
       "4"
      ]
     },
     "execution_count": 2,
     "metadata": {},
     "output_type": "execute_result"
    }
   ],
   "source": [
    "1+1\n",
    "2+2"
   ]
  },
  {
   "cell_type": "code",
   "execution_count": 3,
   "id": "d8792d60",
   "metadata": {},
   "outputs": [],
   "source": [
    "x = 5\n",
    "y = 2\n",
    "c = x + y"
   ]
  },
  {
   "cell_type": "code",
   "execution_count": 4,
   "id": "febb7660",
   "metadata": {},
   "outputs": [
    {
     "data": {
      "text/plain": [
       "7"
      ]
     },
     "execution_count": 4,
     "metadata": {},
     "output_type": "execute_result"
    }
   ],
   "source": [
    "c"
   ]
  },
  {
   "cell_type": "markdown",
   "id": "b4ccc0c9",
   "metadata": {},
   "source": [
    "Mit Jupyter gibt es die Möglichkeit, die Code Zellen auch in Markdown Zellen umzuwandeln. Das habe ich mit dieser Zelle getan."
   ]
  },
  {
   "cell_type": "markdown",
   "id": "1a0ad18a",
   "metadata": {},
   "source": [
    "### Ich bin eine Überschrift der Stärke 3\n",
    "#### und ich der Stärke 4\n",
    "\n",
    "und unten ein Text, der **fett** dargestellt werden kann:\n",
    "    \n",
    "**Ich bin fett :)**"
   ]
  },
  {
   "cell_type": "code",
   "execution_count": 6,
   "id": "e3ff8560",
   "metadata": {},
   "outputs": [
    {
     "name": "stdout",
     "output_type": "stream",
     "text": [
      "Eine einfache Print Anweisung\n"
     ]
    }
   ],
   "source": [
    "print('Eine einfache Print Anweisung')"
   ]
  },
  {
   "cell_type": "code",
   "execution_count": 7,
   "id": "4375d202",
   "metadata": {},
   "outputs": [
    {
     "data": {
      "text/plain": [
       "<BarContainer object of 2 artists>"
      ]
     },
     "execution_count": 7,
     "metadata": {},
     "output_type": "execute_result"
    },
    {
     "data": {
      "image/png": "[encoded data removed]",
      "text/plain": [
       "<Figure size 432x288 with 1 Axes>"
      ]
     },
     "metadata": {
      "needs_background": "light"
     },
     "output_type": "display_data"
    }
   ],
   "source": [
    "import matplotlib.pyplot as plt\n",
    "%matplotlib inline\n",
    "data = {'Anteil der Erde aus Wasser': 71, 'Anteil der Erde aus Land': 29}\n",
    "names = list (data.keys())\n",
    "values = list (data.values())\n",
    "plt.ylabel('Percentage')\n",
    "plt.bar(names, values)"
   ]
  },
  {
   "cell_type": "code",
   "execution_count": 8,
   "id": "c9cae502",
   "metadata": {},
   "outputs": [
    {
     "data": {
      "text/plain": [
       "7"
      ]
     },
     "execution_count": 8,
     "metadata": {},
     "output_type": "execute_result"
    }
   ],
   "source": [
    "# die Variable c hat immernoch den gleichen Wert wie von Anfang an\n",
    "c"
   ]
  },
  {
   "cell_type": "code",
   "execution_count": 9,
   "id": "31c96402",
   "metadata": {},
   "outputs": [],
   "source": [
    "# Nun vergebe ich eine andere Zahl\n",
    "c = 15"
   ]
  },
  {
   "cell_type": "code",
   "execution_count": 10,
   "id": "0c0e5448",
   "metadata": {},
   "outputs": [
    {
     "data": {
      "text/plain": [
       "15"
      ]
     },
     "execution_count": 10,
     "metadata": {},
     "output_type": "execute_result"
    }
   ],
   "source": [
    "# Jetzt hat c einen anderen Wert\n",
    "c"
   ]
  },
  {
   "cell_type": "code",
   "execution_count": null,
   "id": "8178d199",
   "metadata": {},
   "outputs": [],
   "source": []
  }
 ],
 "metadata": {
  "kernelspec": {
   "display_name": "Python 3",
   "language": "python",
   "name": "python3"
  },
  "language_info": {
   "codemirror_mode": {
    "name": "ipython",
    "version": 3
   },
   "file_extension": ".py",
   "mimetype": "text/x-python",
   "name": "python",
   "nbconvert_exporter": "python",
   "pygments_lexer": "ipython3",
   "version": "3.8.8"
  }
 },
 "nbformat": 4,
 "nbformat_minor": 5
}
